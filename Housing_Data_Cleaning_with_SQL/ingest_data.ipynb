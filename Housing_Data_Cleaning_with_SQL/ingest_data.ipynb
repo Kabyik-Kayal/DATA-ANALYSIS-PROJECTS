{
 "cells": [
  {
   "cell_type": "markdown",
   "metadata": {},
   "source": [
    "# Import Libraries"
   ]
  },
  {
   "cell_type": "code",
   "execution_count": 11,
   "metadata": {},
   "outputs": [],
   "source": [
    "from pathlib import Path\n",
    "import os\n",
    "from dotenv import load_dotenv\n",
    "import mysql.connector as conn"
   ]
  },
  {
   "cell_type": "markdown",
   "metadata": {},
   "source": [
    "# Load environment variables"
   ]
  },
  {
   "cell_type": "code",
   "execution_count": 12,
   "metadata": {},
   "outputs": [],
   "source": [
    "load_dotenv()\n",
    "\n",
    "# Get environment variables\n",
    "DB_HOST = os.getenv('host')\n",
    "DB_USER = os.getenv('user')\n",
    "DB_PASSWORD = os.getenv('password')\n",
    "DB_NAME = os.getenv('database')"
   ]
  },
  {
   "cell_type": "markdown",
   "metadata": {},
   "source": [
    "# Configure MySQL Database"
   ]
  },
  {
   "cell_type": "code",
   "execution_count": 13,
   "metadata": {},
   "outputs": [],
   "source": [
    "db_config = {\n",
    "    'host': DB_HOST,\n",
    "    'user': DB_USER,\n",
    "    'password': DB_PASSWORD,\n",
    "    'database': DB_NAME,\n",
    "    'allow_local_infile': True  # Required for local file loading\n",
    "}"
   ]
  },
  {
   "cell_type": "markdown",
   "metadata": {},
   "source": [
    "# Connect MySQL"
   ]
  },
  {
   "cell_type": "code",
   "execution_count": 14,
   "metadata": {},
   "outputs": [],
   "source": [
    "connection = conn.connect(**db_config)\n",
    "cursor = connection.cursor()"
   ]
  },
  {
   "cell_type": "markdown",
   "metadata": {},
   "source": [
    "# Create a MySQL Table for our Dataset"
   ]
  },
  {
   "cell_type": "code",
   "execution_count": 18,
   "metadata": {
    "vscode": {
     "languageId": "sql"
    }
   },
   "outputs": [],
   "source": [
    "cursor.execute(\"\"\"\n",
    "CREATE TABLE IF NOT EXISTS nashvillehousing (\n",
    "    UniqueID INT PRIMARY KEY,\n",
    "    ParcelID VARCHAR(50),\n",
    "    LandUse VARCHAR(50),\n",
    "    PropertyAddress VARCHAR(200),\n",
    "    SaleDate VARCHAR(50),\n",
    "    SalePrice DECIMAL(15,2),\n",
    "    LegalReference VARCHAR(50),\n",
    "    SoldAsVacant VARCHAR(5),\n",
    "    OwnerName VARCHAR(100),\n",
    "    OwnerAddress VARCHAR(200),\n",
    "    Acreage DECIMAL(10,2),\n",
    "    TaxDistrict VARCHAR(100),\n",
    "    LandValue DECIMAL(15,2),\n",
    "    BuildingValue DECIMAL(15,2),\n",
    "    TotalValue DECIMAL(15,2),\n",
    "    YearBuilt INT,\n",
    "    Bedrooms INT,\n",
    "    FullBath INT,\n",
    "    HalfBath INT\n",
    ")\n",
    "\"\"\")\n",
    "connection.commit()"
   ]
  },
  {
   "cell_type": "markdown",
   "metadata": {},
   "source": [
    "# Load data into the Table"
   ]
  },
  {
   "cell_type": "code",
   "execution_count": 19,
   "metadata": {},
   "outputs": [],
   "source": [
    "cursor.execute(\"\"\"  \n",
    "    LOAD DATA LOCAL INFILE 'D:/Git-Hub Projects/DATA-ANALYSIS-PROJECTS/Housing_Data_Cleaning_with_SQL/Nashville Housing Data for Data Cleaning.csv'  \n",
    "    INTO TABLE nashvillehousing  \n",
    "    FIELDS TERMINATED BY ',' \n",
    "    ENCLOSED BY '\"'\n",
    "    LINES TERMINATED BY '\\n'\n",
    "    IGNORE 1 LINES;\n",
    "\"\"\")  \n",
    "connection.commit()"
   ]
  },
  {
   "cell_type": "markdown",
   "metadata": {},
   "source": [
    "# Fetch Data for confirmation"
   ]
  },
  {
   "cell_type": "code",
   "execution_count": 21,
   "metadata": {},
   "outputs": [
    {
     "name": "stdout",
     "output_type": "stream",
     "text": [
      "(0, '105 03 0D 008.00', 'RESIDENTIAL CONDO', '1208  3RD AVE S, NASHVILLE', 'January 24, 2013', Decimal('132000.00'), '20130128-0008725', 'No', '', '', Decimal('0.00'), '', Decimal('0.00'), Decimal('0.00'), Decimal('0.00'), 0, 0, 0, 0)\n",
      "(1, '105 11 0 080.00', 'SINGLE FAMILY', '1802  STEWART PL, NASHVILLE', 'January 11, 2013', Decimal('191500.00'), '20130118-0006337', 'No', 'STINSON, LAURA M.', '1802  STEWART PL, NASHVILLE, TN', Decimal('0.17'), 'URBAN SERVICES DISTRICT', Decimal('32000.00'), Decimal('134400.00'), Decimal('168300.00'), 1941, 2, 1, 0)\n",
      "(2, '118 03 0 130.00', 'SINGLE FAMILY', '2761  ROSEDALE PL, NASHVILLE', 'January 18, 2013', Decimal('202000.00'), '20130124-0008033', 'No', 'NUNES, JARED R.', '2761  ROSEDALE PL, NASHVILLE, TN', Decimal('0.11'), 'CITY OF BERRY HILL', Decimal('34000.00'), Decimal('157800.00'), Decimal('191800.00'), 2000, 3, 2, 1)\n",
      "(3, '119 01 0 479.00', 'SINGLE FAMILY', '224  PEACHTREE ST, NASHVILLE', 'January 18, 2013', Decimal('32000.00'), '20130128-0008863', 'No', 'WHITFORD, KAREN', '224  PEACHTREE ST, NASHVILLE, TN', Decimal('0.17'), 'URBAN SERVICES DISTRICT', Decimal('25000.00'), Decimal('243700.00'), Decimal('268700.00'), 1948, 4, 2, 0)\n",
      "(4, '119 05 0 186.00', 'SINGLE FAMILY', '316  LUTIE ST, NASHVILLE', 'January 23, 2013', Decimal('102000.00'), '20130131-0009929', 'No', 'HENDERSON, JAMES P. & LYNN P.', '316  LUTIE ST, NASHVILLE, TN', Decimal('0.34'), 'URBAN SERVICES DISTRICT', Decimal('25000.00'), Decimal('138100.00'), Decimal('164800.00'), 1910, 2, 1, 0)\n"
     ]
    }
   ],
   "source": [
    "cursor.execute(\"SELECT * FROM nashvillehousing\")\n",
    "result = cursor.fetchall()\n",
    "for row in result[:5]:  # Display first 5 rows\n",
    "    print(row)"
   ]
  },
  {
   "cell_type": "markdown",
   "metadata": {},
   "source": [
    "# Fetching a particular row to match with the csv"
   ]
  },
  {
   "cell_type": "code",
   "execution_count": 22,
   "metadata": {},
   "outputs": [
    {
     "name": "stdout",
     "output_type": "stream",
     "text": [
      "[(2045, '007 00 0 125.00', 'SINGLE FAMILY', '1808  FOX CHASE DR, GOODLETTSVILLE', 'April 9, 2013', Decimal('240000.00'), '20130412-0036474', 'No', 'FRAZIER, CYRENTHA LYNETTE', '1808  FOX CHASE DR, GOODLETTSVILLE, TN', Decimal('2.30'), 'GENERAL SERVICES DISTRICT', Decimal('50000.00'), Decimal('168200.00'), Decimal('235700.00'), 1986, 3, 3, 0)]\n"
     ]
    }
   ],
   "source": [
    "cursor.execute(\"Select * from nashvillehousing where UniqueID = 2045\")\n",
    "result = cursor.fetchall()\n",
    "print(result)"
   ]
  }
 ],
 "metadata": {
  "kernelspec": {
   "display_name": "venv",
   "language": "python",
   "name": "python3"
  },
  "language_info": {
   "codemirror_mode": {
    "name": "ipython",
    "version": 3
   },
   "file_extension": ".py",
   "mimetype": "text/x-python",
   "name": "python",
   "nbconvert_exporter": "python",
   "pygments_lexer": "ipython3",
   "version": "3.12.9"
  }
 },
 "nbformat": 4,
 "nbformat_minor": 2
}
