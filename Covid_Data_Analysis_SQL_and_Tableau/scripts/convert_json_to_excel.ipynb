{
 "cells": [
  {
   "cell_type": "markdown",
   "metadata": {},
   "source": [
    "# Importing Libraries"
   ]
  },
  {
   "cell_type": "code",
   "execution_count": null,
   "metadata": {},
   "outputs": [],
   "source": [
    "import pandas as pd\n",
    "import json"
   ]
  },
  {
   "cell_type": "markdown",
   "metadata": {},
   "source": [
    "# Defining function to convert json to excel"
   ]
  },
  {
   "cell_type": "code",
   "execution_count": null,
   "metadata": {},
   "outputs": [],
   "source": [
    "def json_to_excel(json_file_path, excel_file_path):\n",
    "    \"\"\"\n",
    "    Converts a JSON file to an Excel file.\n",
    "\n",
    "    Args:\n",
    "        json_file_path (str): The path to the JSON file.\n",
    "        excel_file_path (str): The path to the Excel file to be created.\n",
    "    \"\"\"\n",
    "    try:\n",
    "        df = pd.read_json(json_file_path)\n",
    "        df = df.fillna(0)\n",
    "        df.to_excel(excel_file_path, index=False)\n",
    "        print(f\"Successfully converted '{json_file_path}' to '{excel_file_path}'\")\n",
    "    except FileNotFoundError:\n",
    "        print(f\"Error: JSON file '{json_file_path}' not found.\")\n",
    "    except Exception as e:\n",
    "        print(f\"An error occurred: {e}\")\n"
   ]
  },
  {
   "cell_type": "markdown",
   "metadata": {},
   "source": [
    "# Converting the data"
   ]
  },
  {
   "cell_type": "code",
   "execution_count": null,
   "metadata": {},
   "outputs": [],
   "source": [
    "# Convert JSON to Excel\n",
    "json_to_excel('D:/Git-Hub Projects/DATA-ANALYSIS-PROJECTS/SQL_Data_Analysis/data/JSON Data extracted from MySQL/Tableau Table 1.json', 'Tableau Table 1.xlsx')"
   ]
  },
  {
   "cell_type": "code",
   "execution_count": null,
   "metadata": {},
   "outputs": [],
   "source": [
    "# Convert JSON to Excel\n",
    "json_to_excel('D:/Git-Hub Projects/DATA-ANALYSIS-PROJECTS/SQL_Data_Analysis/Data for tableau viz/Tableau Table 2.json', 'Tableau Table 2.xlsx')"
   ]
  },
  {
   "cell_type": "code",
   "execution_count": null,
   "metadata": {},
   "outputs": [],
   "source": [
    "# Convert JSON to Excel\n",
    "json_to_excel('D:/Git-Hub Projects/DATA-ANALYSIS-PROJECTS/SQL_Data_Analysis/Data for tableau viz/Tableau Table 3.json', 'Tableau Table 3.xlsx')"
   ]
  },
  {
   "cell_type": "code",
   "execution_count": null,
   "metadata": {},
   "outputs": [],
   "source": [
    "df = pd.read_csv(\"D:/Git-Hub Projects/DATA-ANALYSIS-PROJECTS/Covid_Data_Analysis_SQL_and_Tableau/data/JSON Data extracted from MySQL/Tableau Table 4.1.csv\")"
   ]
  },
  {
   "cell_type": "code",
   "execution_count": null,
   "metadata": {},
   "outputs": [],
   "source": [
    "df.to_excel(\"Tableau Table 4.1.xlsx\", index=False)"
   ]
  }
 ],
 "metadata": {
  "kernelspec": {
   "display_name": "venv",
   "language": "python",
   "name": "python3"
  },
  "language_info": {
   "codemirror_mode": {
    "name": "ipython",
    "version": 3
   },
   "file_extension": ".py",
   "mimetype": "text/x-python",
   "name": "python",
   "nbconvert_exporter": "python",
   "pygments_lexer": "ipython3",
   "version": "3.12.9"
  }
 },
 "nbformat": 4,
 "nbformat_minor": 2
}
