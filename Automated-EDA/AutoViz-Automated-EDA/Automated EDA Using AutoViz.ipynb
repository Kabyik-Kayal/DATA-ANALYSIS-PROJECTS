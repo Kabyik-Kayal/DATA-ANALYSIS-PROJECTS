{
 "cells": [
  {
   "cell_type": "markdown",
   "metadata": {},
   "source": [
    "# Import Libraries"
   ]
  },
  {
   "cell_type": "code",
   "execution_count": null,
   "metadata": {},
   "outputs": [],
   "source": [
    "import pandas as pd\n",
    "from autoviz import AutoViz_Class\n",
    "from autoviz import data_cleaning_suggestions"
   ]
  },
  {
   "cell_type": "markdown",
   "metadata": {},
   "source": [
    "# Import Data"
   ]
  },
  {
   "cell_type": "code",
   "execution_count": null,
   "metadata": {},
   "outputs": [],
   "source": [
    "df = pd.read_csv('D:\\Git-Hub Projects\\DATA-ANALYSIS-PROJECTS\\E-Commerce\\superstore.csv')"
   ]
  },
  {
   "cell_type": "markdown",
   "metadata": {},
   "source": [
    "# Automated EDA Report"
   ]
  },
  {
   "cell_type": "code",
   "execution_count": null,
   "metadata": {},
   "outputs": [],
   "source": [
    "AV = AutoViz_Class()\n",
    "dft = AV.AutoViz(\n",
    "    filename=\"E-Commerce\",\n",
    "    sep=\"\",\n",
    "    depVar=\"\",\n",
    "    dfte=df,\n",
    "    header=0,\n",
    "    verbose=2,\n",
    "    lowess=True,\n",
    "    chart_format=\"svg\",\n",
    "    max_rows_analyzed=50000,\n",
    "    max_cols_analyzed=30,\n",
    "    save_plot_dir=\"D:/Git-Hub Projects/DATA-ANALYSIS-PROJECTS/Automated-EDA/AutoViz-Automated-EDA\"\n",
    ")\n"
   ]
  },
  {
   "cell_type": "markdown",
   "metadata": {},
   "source": [
    "# Get data cleaning suggestions (this can be especially useful during initial data exploratory steps)"
   ]
  },
  {
   "cell_type": "code",
   "execution_count": null,
   "metadata": {},
   "outputs": [],
   "source": [
    "data_cleaning_suggestions(df)\n"
   ]
  }
 ],
 "metadata": {
  "kernelspec": {
   "display_name": "venv",
   "language": "python",
   "name": "python3"
  },
  "language_info": {
   "codemirror_mode": {
    "name": "ipython",
    "version": 3
   },
   "file_extension": ".py",
   "mimetype": "text/x-python",
   "name": "python",
   "nbconvert_exporter": "python",
   "pygments_lexer": "ipython3",
   "version": "3.12.9"
  }
 },
 "nbformat": 4,
 "nbformat_minor": 2
}
