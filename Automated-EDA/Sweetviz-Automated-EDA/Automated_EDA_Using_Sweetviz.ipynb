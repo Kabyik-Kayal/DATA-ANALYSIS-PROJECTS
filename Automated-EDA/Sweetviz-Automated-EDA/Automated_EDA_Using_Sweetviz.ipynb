{
 "cells": [
  {
   "cell_type": "markdown",
   "metadata": {},
   "source": [
    "# Import Libraries"
   ]
  },
  {
   "cell_type": "code",
   "execution_count": null,
   "metadata": {},
   "outputs": [],
   "source": [
    "import sweetviz as sv\n",
    "import pandas as pd\n",
    "import numpy as np\n",
    "from sweetviz.feature_config import FeatureConfig\n"
   ]
  },
  {
   "cell_type": "markdown",
   "metadata": {},
   "source": [
    "# Load your primary dataset"
   ]
  },
  {
   "cell_type": "code",
   "execution_count": null,
   "metadata": {},
   "outputs": [],
   "source": [
    "data = pd.read_excel('D:/Git-Hub Projects/DATA-ANALYSIS-PROJECTS/Automated-EDA/data/CovidDeaths.xlsx')"
   ]
  },
  {
   "cell_type": "markdown",
   "metadata": {},
   "source": [
    "# Fix Numpy Issue"
   ]
  },
  {
   "cell_type": "code",
   "execution_count": null,
   "metadata": {},
   "outputs": [],
   "source": [
    "if not hasattr(np, 'VisibleDeprecationWarning'):\n",
    "    np.VisibleDeprecationWarning = DeprecationWarning"
   ]
  },
  {
   "cell_type": "markdown",
   "metadata": {},
   "source": [
    "# Customizations in Sweetviz:\n",
    " - source : Source data frame\n",
    " - compare_data : Comparison data frame\n",
    " - target_feat : Specify the target variable.\n",
    " - pairwise_analysis : Enable full pairwise analysis (set to str(\"Auto\")).\n",
    " - skip_after_comparison : Whether to skip further analysis after comparing target vs remaining features.\n",
    " - feat_cfg : Supply custom configurations (for example, to tweak categorical detectors). "
   ]
  },
  {
   "cell_type": "markdown",
   "metadata": {},
   "source": [
    "# Example 1: Analyze a Single Dataset"
   ]
  },
  {
   "cell_type": "code",
   "execution_count": null,
   "metadata": {},
   "outputs": [],
   "source": [
    "# Generate an EDA report (if you have a target, specify it; else leave target_feat out)\n",
    "report = sv.analyze(data)\n",
    "\n",
    "# Save and open the report in your browser\n",
    "report.show_html(\"single_dataset_report.html\")"
   ]
  },
  {
   "cell_type": "markdown",
   "metadata": {},
   "source": [
    "# Example 2: Compare Two Datasets"
   ]
  },
  {
   "cell_type": "markdown",
   "metadata": {},
   "source": [
    "#### Split the data into two equal parts (You can use any 2 different datasets)"
   ]
  },
  {
   "cell_type": "code",
   "execution_count": null,
   "metadata": {},
   "outputs": [],
   "source": [
    "full_data = data.copy()  # Keep a copy of the original data\n",
    "split_index = len(full_data) // 2\n",
    "\n",
    "data = full_data.iloc[:split_index].copy()          # First half as the training set\n",
    "compare_data = full_data.iloc[split_index:].copy()    # Second half as the testing set\n",
    "\n",
    "print(\"Training set shape:\", data.shape)\n",
    "print(\"Testing set shape:\", compare_data.shape)"
   ]
  },
  {
   "cell_type": "markdown",
   "metadata": {},
   "source": [
    "#### Generate The Comparison Report"
   ]
  },
  {
   "cell_type": "code",
   "execution_count": null,
   "metadata": {},
   "outputs": [],
   "source": [
    "# Create a FeatureConfig object\n",
    "custom_feature_cfg = FeatureConfig(\n",
    "    skip=[],  # List of features to skip\n",
    "    force_cat=[]  # Force these features to be treated as categorical\n",
    ")\n",
    "\n",
    "# Now use the FeatConfig object in the compare function\n",
    "report_compare = sv.compare(\n",
    "    source=data,\n",
    "    compare=compare_data,\n",
    "    # target_feat=\"target_column\",\n",
    "    pairwise_analysis=\"auto\",\n",
    "    feat_cfg=custom_feature_cfg\n",
    ")"
   ]
  },
  {
   "cell_type": "markdown",
   "metadata": {},
   "source": [
    "#### Save and Show the Report in HTML"
   ]
  },
  {
   "cell_type": "code",
   "execution_count": null,
   "metadata": {},
   "outputs": [],
   "source": [
    "report_compare.show_html(\"Comparison_dataset_report.html\")"
   ]
  },
  {
   "cell_type": "markdown",
   "metadata": {},
   "source": [
    "#### Show Report within Notebook"
   ]
  },
  {
   "cell_type": "code",
   "execution_count": null,
   "metadata": {},
   "outputs": [],
   "source": [
    "report_compare.show_notebook()"
   ]
  }
 ],
 "metadata": {
  "kernelspec": {
   "display_name": "venv",
   "language": "python",
   "name": "python3"
  },
  "language_info": {
   "codemirror_mode": {
    "name": "ipython",
    "version": 3
   },
   "file_extension": ".py",
   "mimetype": "text/x-python",
   "name": "python",
   "nbconvert_exporter": "python",
   "pygments_lexer": "ipython3",
   "version": "3.12.9"
  }
 },
 "nbformat": 4,
 "nbformat_minor": 2
}
