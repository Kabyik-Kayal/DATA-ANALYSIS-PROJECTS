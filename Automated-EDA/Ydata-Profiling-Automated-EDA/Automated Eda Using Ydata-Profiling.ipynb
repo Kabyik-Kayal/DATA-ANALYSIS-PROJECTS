{
 "cells": [
  {
   "cell_type": "code",
   "execution_count": 2,
   "metadata": {},
   "outputs": [],
   "source": [
    "import pandas as pd\n",
    "from ydata_profiling import ProfileReport"
   ]
  },
  {
   "cell_type": "code",
   "execution_count": 3,
   "metadata": {},
   "outputs": [],
   "source": [
    "df = pd.read_excel('data/CovidDeaths.xlsx')"
   ]
  },
  {
   "cell_type": "code",
   "execution_count": 6,
   "metadata": {},
   "outputs": [
    {
     "name": "stdout",
     "output_type": "stream",
     "text": [
      "<class 'pandas.core.frame.DataFrame'>\n",
      "RangeIndex: 85171 entries, 0 to 85170\n",
      "Data columns (total 59 columns):\n",
      " #   Column                                 Non-Null Count  Dtype         \n",
      "---  ------                                 --------------  -----         \n",
      " 0   iso_code                               85171 non-null  object        \n",
      " 1   continent                              81060 non-null  object        \n",
      " 2   location                               85171 non-null  object        \n",
      " 3   date                                   85171 non-null  datetime64[ns]\n",
      " 4   total_cases                            83072 non-null  float64       \n",
      " 5   new_cases                              83070 non-null  float64       \n",
      " 6   new_cases_smoothed                     82069 non-null  float64       \n",
      " 7   total_deaths                           73408 non-null  float64       \n",
      " 8   new_deaths                             73566 non-null  float64       \n",
      " 9   new_deaths_smoothed                    82069 non-null  float64       \n",
      " 10  total_cases_per_million                82623 non-null  float64       \n",
      " 11  new_cases_per_million                  82621 non-null  float64       \n",
      " 12  new_cases_smoothed_per_million         81625 non-null  float64       \n",
      " 13  total_deaths_per_million               72972 non-null  float64       \n",
      " 14  new_deaths_per_million                 73130 non-null  float64       \n",
      " 15  new_deaths_smoothed_per_million        81625 non-null  float64       \n",
      " 16  reproduction_rate                      68942 non-null  float64       \n",
      " 17  icu_patients                           8684 non-null   float64       \n",
      " 18  icu_patients_per_million               8684 non-null   float64       \n",
      " 19  hosp_patients                          10814 non-null  float64       \n",
      " 20  hosp_patients_per_million              10814 non-null  float64       \n",
      " 21  weekly_icu_admissions                  789 non-null    float64       \n",
      " 22  weekly_icu_admissions_per_million      789 non-null    float64       \n",
      " 23  weekly_hosp_admissions                 1295 non-null   float64       \n",
      " 24  weekly_hosp_admissions_per_million     1295 non-null   float64       \n",
      " 25  new_tests                              38945 non-null  float64       \n",
      " 26  total_tests                            38652 non-null  float64       \n",
      " 27  total_tests_per_thousand               38652 non-null  float64       \n",
      " 28  new_tests_per_thousand                 38945 non-null  float64       \n",
      " 29  new_tests_smoothed                     44625 non-null  float64       \n",
      " 30  new_tests_smoothed_per_thousand        44625 non-null  float64       \n",
      " 31  positive_rate                          42904 non-null  float64       \n",
      " 32  tests_per_case                         42311 non-null  float64       \n",
      " 33  tests_units                            46079 non-null  object        \n",
      " 34  total_vaccinations                     9374 non-null   float64       \n",
      " 35  people_vaccinated                      8744 non-null   float64       \n",
      " 36  people_fully_vaccinated                6431 non-null   float64       \n",
      " 37  new_vaccinations                       7954 non-null   float64       \n",
      " 38  new_vaccinations_smoothed              15092 non-null  float64       \n",
      " 39  total_vaccinations_per_hundred         9374 non-null   float64       \n",
      " 40  people_vaccinated_per_hundred          8744 non-null   float64       \n",
      " 41  people_fully_vaccinated_per_hundred    6431 non-null   float64       \n",
      " 42  new_vaccinations_smoothed_per_million  15092 non-null  float64       \n",
      " 43  stringency_index                       72207 non-null  float64       \n",
      " 44  population                             84622 non-null  float64       \n",
      " 45  population_density                     79274 non-null  float64       \n",
      " 46  median_age                             76706 non-null  float64       \n",
      " 47  aged_65_older                          75830 non-null  float64       \n",
      " 48  aged_70_older                          76276 non-null  float64       \n",
      " 49  gdp_per_capita                         77046 non-null  float64       \n",
      " 50  extreme_poverty                        52449 non-null  float64       \n",
      " 51  cardiovasc_death_rate                  77634 non-null  float64       \n",
      " 52  diabetes_prevalence                    78779 non-null  float64       \n",
      " 53  female_smokers                         60828 non-null  float64       \n",
      " 54  male_smokers                           59931 non-null  float64       \n",
      " 55  handwashing_facilities                 39007 non-null  float64       \n",
      " 56  hospital_beds_per_thousand             70847 non-null  float64       \n",
      " 57  life_expectancy                        80833 non-null  float64       \n",
      " 58  human_development_index                77517 non-null  float64       \n",
      "dtypes: datetime64[ns](1), float64(54), object(4)\n",
      "memory usage: 38.3+ MB\n"
     ]
    }
   ],
   "source": [
    "df.info()"
   ]
  },
  {
   "cell_type": "code",
   "execution_count": 7,
   "metadata": {},
   "outputs": [],
   "source": [
    "report = ProfileReport(df, title=\"Covid Deaths Profiling Report\", minimal=True)"
   ]
  },
  {
   "cell_type": "code",
   "execution_count": 9,
   "metadata": {},
   "outputs": [
    {
     "data": {
      "application/vnd.jupyter.widget-view+json": {
       "model_id": "61e39f1723c949d098d1c5259f6b24c4",
       "version_major": 2,
       "version_minor": 0
      },
      "text/plain": [
       "Generate report structure:   0%|          | 0/1 [00:00<?, ?it/s]"
      ]
     },
     "metadata": {},
     "output_type": "display_data"
    },
    {
     "data": {
      "application/vnd.jupyter.widget-view+json": {
       "model_id": "c266dacdd6cd416fa8ad007a1afe089c",
       "version_major": 2,
       "version_minor": 0
      },
      "text/plain": [
       "Render HTML:   0%|          | 0/1 [00:00<?, ?it/s]"
      ]
     },
     "metadata": {},
     "output_type": "display_data"
    },
    {
     "data": {
      "application/vnd.jupyter.widget-view+json": {
       "model_id": "a90a4a20166a42f4b6aafd4a25acfe25",
       "version_major": 2,
       "version_minor": 0
      },
      "text/plain": [
       "Export report to file:   0%|          | 0/1 [00:00<?, ?it/s]"
      ]
     },
     "metadata": {},
     "output_type": "display_data"
    }
   ],
   "source": [
    "report.to_file(\"CovidDeathsProfilingReportMinimal.html\")"
   ]
  },
  {
   "cell_type": "code",
   "execution_count": null,
   "metadata": {},
   "outputs": [],
   "source": []
  }
 ],
 "metadata": {
  "kernelspec": {
   "display_name": "Python 3",
   "language": "python",
   "name": "python3"
  },
  "language_info": {
   "codemirror_mode": {
    "name": "ipython",
    "version": 3
   },
   "file_extension": ".py",
   "mimetype": "text/x-python",
   "name": "python",
   "nbconvert_exporter": "python",
   "pygments_lexer": "ipython3",
   "version": "3.12.8"
  }
 },
 "nbformat": 4,
 "nbformat_minor": 2
}
