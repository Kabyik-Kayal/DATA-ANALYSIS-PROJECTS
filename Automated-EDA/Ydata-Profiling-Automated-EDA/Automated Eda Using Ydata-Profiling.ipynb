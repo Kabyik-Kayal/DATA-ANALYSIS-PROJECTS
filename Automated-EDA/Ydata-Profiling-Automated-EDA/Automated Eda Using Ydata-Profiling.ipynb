{
 "cells": [
  {
   "cell_type": "markdown",
   "metadata": {},
   "source": [
    "# Import the required Libraries"
   ]
  },
  {
   "cell_type": "code",
   "execution_count": null,
   "metadata": {},
   "outputs": [],
   "source": [
    "import pandas as pd\n",
    "from ydata_profiling import ProfileReport\n",
    "from ydata_profiling.config import Settings"
   ]
  },
  {
   "cell_type": "markdown",
   "metadata": {},
   "source": [
    "# Load the data"
   ]
  },
  {
   "cell_type": "code",
   "execution_count": null,
   "metadata": {},
   "outputs": [],
   "source": [
    "df = pd.read_excel('D:/Git-Hub Projects/DATA-ANALYSIS-PROJECTS/Automated-EDA/data/CovidDeaths.xlsx')"
   ]
  },
  {
   "cell_type": "markdown",
   "metadata": {},
   "source": [
    "# Create a Minimal Report"
   ]
  },
  {
   "cell_type": "code",
   "execution_count": null,
   "metadata": {},
   "outputs": [],
   "source": [
    "report = ProfileReport(df, title=\"Covid Deaths Profiling Report\", minimal=True)"
   ]
  },
  {
   "cell_type": "markdown",
   "metadata": {},
   "source": [
    "# Save the Report to a HTML file"
   ]
  },
  {
   "cell_type": "code",
   "execution_count": null,
   "metadata": {},
   "outputs": [],
   "source": [
    "report.to_file(\"CovidDeathsProfilingReportMinimal.html\")"
   ]
  },
  {
   "cell_type": "markdown",
   "metadata": {},
   "source": [
    "# Display the Report to Jupyter Notebook"
   ]
  },
  {
   "cell_type": "code",
   "execution_count": null,
   "metadata": {},
   "outputs": [],
   "source": [
    "report.to_notebook_iframe()"
   ]
  },
  {
   "cell_type": "markdown",
   "metadata": {},
   "source": [
    "# Creating a Small Dataset"
   ]
  },
  {
   "cell_type": "code",
   "execution_count": null,
   "metadata": {},
   "outputs": [],
   "source": [
    "new_df = df.iloc[:10000, :30]"
   ]
  },
  {
   "cell_type": "markdown",
   "metadata": {},
   "source": [
    "# Create a Full Report"
   ]
  },
  {
   "cell_type": "code",
   "execution_count": null,
   "metadata": {},
   "outputs": [],
   "source": [
    "full_report = ProfileReport(new_df, title=\"Covid Deaths Profiling Report\")"
   ]
  },
  {
   "cell_type": "markdown",
   "metadata": {},
   "source": [
    "# Save the Report to a HTML file"
   ]
  },
  {
   "cell_type": "code",
   "execution_count": null,
   "metadata": {},
   "outputs": [],
   "source": [
    "full_report.to_file(\"Ydata_Profiling_full_report_capabilities.html\")"
   ]
  },
  {
   "cell_type": "markdown",
   "metadata": {},
   "source": [
    "# Show the Report to Jupyter Notebook"
   ]
  },
  {
   "cell_type": "code",
   "execution_count": null,
   "metadata": {},
   "outputs": [],
   "source": [
    "full_report.to_notebook_iframe()"
   ]
  },
  {
   "cell_type": "markdown",
   "metadata": {},
   "source": [
    "# Create a profile report with detailed configurations"
   ]
  },
  {
   "cell_type": "code",
   "execution_count": null,
   "metadata": {},
   "outputs": [],
   "source": [
    "\n",
    "detailed_report = ProfileReport(\n",
    "    new_df,\n",
    "    title=\"Comprehensive Covid Deaths Analysis\",\n",
    "    explorative=True,  # Enable explorative mode for more detailed analysis\n",
    "    minimal=False,  # Disable minimal mode to show all features\n",
    "    correlations={\n",
    "        \"pearson\": {\"calculate\": True},  # Enable Pearson correlation\n",
    "        \"spearman\": {\"calculate\": True},  # Enable Spearman correlation\n",
    "        \"kendall\": {\"calculate\": True},  # Enable Kendall correlation\n",
    "        \"phi_k\": {\"calculate\": True},    # Enable Phi K correlation\n",
    "        \"cramers\": {\"calculate\": True},   # Enable Cramer's V correlation\n",
    "    },\n",
    "    missing_diagrams={\n",
    "        \"bar\": True,  # Show missing value bar chart\n",
    "        \"matrix\": True,  # Show missing value matrix\n",
    "        \"heatmap\": True,  # Show missing value heatmap\n",
    "    },\n",
    "    interactions={\n",
    "        \"continuous\": True,  # Enable continuous variable interactions\n",
    "    },\n",
    "    samples={\n",
    "        \"head\": 10,  # Show first 10 rows\n",
    "        \"tail\": 10,  # Show last 10 rows\n",
    "    },\n",
    "    duplicates={\n",
    "        \"head\": 10,  # Show first 10 duplicate rows\n",
    "    },\n",
    "    plot={\n",
    "        \"histogram\": {\"bins\": 50},  # Set histogram bins\n",
    "        \"correlation\": {\"cmap\": \"RdBu\"},  # Set correlation plot color map\n",
    "        \"missing\": {\"cmap\": \"viridis\"},  # Set missing values plot color map\n",
    "    }\n",
    ")"
   ]
  },
  {
   "cell_type": "markdown",
   "metadata": {},
   "source": [
    "# Save the report to HTML file with a detailed name"
   ]
  },
  {
   "cell_type": "code",
   "execution_count": null,
   "metadata": {},
   "outputs": [],
   "source": [
    "detailed_report.to_file(\"Covid_Deaths_Detailed_Analysis_Report.html\")"
   ]
  },
  {
   "cell_type": "markdown",
   "metadata": {},
   "source": [
    "# Display the report in the notebook"
   ]
  },
  {
   "cell_type": "code",
   "execution_count": null,
   "metadata": {},
   "outputs": [],
   "source": [
    "detailed_report.to_notebook_iframe()"
   ]
  },
  {
   "cell_type": "markdown",
   "metadata": {},
   "source": [
    "# Save Report to JSON file"
   ]
  },
  {
   "cell_type": "code",
   "execution_count": null,
   "metadata": {},
   "outputs": [],
   "source": [
    "detailed_report.to_file(\"Covid_Deaths_Detailed_Analysis_Report.json\")"
   ]
  }
 ],
 "metadata": {
  "kernelspec": {
   "display_name": "venv",
   "language": "python",
   "name": "python3"
  },
  "language_info": {
   "codemirror_mode": {
    "name": "ipython",
    "version": 3
   },
   "file_extension": ".py",
   "mimetype": "text/x-python",
   "name": "python",
   "nbconvert_exporter": "python",
   "pygments_lexer": "ipython3",
   "version": "3.12.9"
  }
 },
 "nbformat": 4,
 "nbformat_minor": 2
}
