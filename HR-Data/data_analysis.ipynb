{
 "cells": [
  {
   "cell_type": "code",
   "execution_count": 1,
   "metadata": {},
   "outputs": [],
   "source": [
    "import pandas as pd"
   ]
  },
  {
   "cell_type": "code",
   "execution_count": 2,
   "metadata": {},
   "outputs": [
    {
     "name": "stderr",
     "output_type": "stream",
     "text": [
      "/home/kabyik/Data-Analysis-Projects/myenv/lib/python3.10/site-packages/openpyxl/worksheet/_reader.py:329: UserWarning: Data Validation extension is not supported and will be removed\n",
      "  warn(msg)\n"
     ]
    }
   ],
   "source": [
    "df = pd.read_excel('AttendanceSheet.xlsx')"
   ]
  },
  {
   "cell_type": "code",
   "execution_count": 3,
   "metadata": {},
   "outputs": [
    {
     "name": "stdout",
     "output_type": "stream",
     "text": [
      "<class 'pandas.core.frame.DataFrame'>\n",
      "RangeIndex: 84 entries, 0 to 83\n",
      "Data columns (total 45 columns):\n",
      " #   Column                   Non-Null Count  Dtype         \n",
      "---  ------                   --------------  -----         \n",
      " 0   AtliQ                    84 non-null     object        \n",
      " 1   Unnamed: 1               84 non-null     object        \n",
      " 2   2022-06-01 00:00:00      81 non-null     object        \n",
      " 3   2022-06-02 00:00:00      81 non-null     object        \n",
      " 4   2022-06-03 00:00:00      81 non-null     object        \n",
      " 5   2022-06-04 00:00:00      84 non-null     object        \n",
      " 6   2022-06-05 00:00:00      84 non-null     object        \n",
      " 7   2022-06-06 00:00:00      79 non-null     object        \n",
      " 8   2022-06-07 00:00:00      79 non-null     object        \n",
      " 9   2022-06-08 00:00:00      78 non-null     object        \n",
      " 10  2022-06-09 00:00:00      78 non-null     object        \n",
      " 11  2022-06-10 00:00:00      78 non-null     object        \n",
      " 12  2022-06-11 00:00:00      84 non-null     object        \n",
      " 13  2022-06-12 00:00:00      84 non-null     object        \n",
      " 14  2022-06-13 00:00:00      80 non-null     object        \n",
      " 15  2022-06-14 00:00:00      80 non-null     object        \n",
      " 16  2022-06-15 00:00:00      80 non-null     object        \n",
      " 17  2022-06-16 00:00:00      80 non-null     object        \n",
      " 18  2022-06-17 00:00:00      79 non-null     object        \n",
      " 19  2022-06-18 00:00:00      84 non-null     object        \n",
      " 20  2022-06-19 00:00:00      84 non-null     object        \n",
      " 21  2022-06-20 00:00:00      10 non-null     object        \n",
      " 22  2022-06-21 00:00:00      10 non-null     object        \n",
      " 23  2022-06-22 00:00:00      10 non-null     object        \n",
      " 24  2022-06-23 00:00:00      11 non-null     object        \n",
      " 25  2022-06-24 00:00:00      11 non-null     object        \n",
      " 26  2022-06-25 00:00:00      83 non-null     object        \n",
      " 27  2022-06-26 00:00:00      83 non-null     object        \n",
      " 28  2022-06-27 00:00:00      9 non-null      object        \n",
      " 29  2022-06-28 00:00:00      7 non-null      object        \n",
      " 30  2022-06-29 00:00:00      5 non-null      object        \n",
      " 31  2022-06-30 00:00:00      6 non-null      object        \n",
      " 32  2022-06-01 00:00:00.1    1 non-null      datetime64[ns]\n",
      " 33  Total Present Days       84 non-null     object        \n",
      " 34  Present                  84 non-null     object        \n",
      " 35  Work from home           84 non-null     object        \n",
      " 36  Paid Leave               84 non-null     object        \n",
      " 37  Sick Leave               84 non-null     object        \n",
      " 38  Birthday Leave           84 non-null     object        \n",
      " 39  Floting festival leave   84 non-null     object        \n",
      " 40  Bereavement Leave        84 non-null     object        \n",
      " 41  Leave without pay        84 non-null     object        \n",
      " 42  Weekly Off               84 non-null     object        \n",
      " 43  Holidays Off             84 non-null     object        \n",
      " 44  Menstrual Leave          84 non-null     object        \n",
      "dtypes: datetime64[ns](1), object(44)\n",
      "memory usage: 29.7+ KB\n"
     ]
    }
   ],
   "source": [
    "df.info()"
   ]
  },
  {
   "cell_type": "code",
   "execution_count": 4,
   "metadata": {},
   "outputs": [
    {
     "data": {
      "text/plain": [
       "<bound method NDFrame.head of             AtliQ         Unnamed: 1  2022-06-01 00:00:00  \\\n",
       "0   Employee Code               Name  2022-06-01 00:00:00   \n",
       "1        Atq -406      Thanos Thakur                    P   \n",
       "2        Atq -462       Jarvis Singh                    P   \n",
       "3        Atq -411      Nevaeh Waller                    P   \n",
       "4        Atq -398         Bo Cordova                   SL   \n",
       "..            ...                ...                  ...   \n",
       "79       Atq -334  Charity Singleton                    P   \n",
       "80       Atq -414      Mckayla Miles                    P   \n",
       "81       Atq -389    Julien Hamilton                    P   \n",
       "82       Atq -385       Alyson Huber                    P   \n",
       "83       Atq -348     Zaiden Wheeler                  NaN   \n",
       "\n",
       "    2022-06-02 00:00:00  2022-06-03 00:00:00  2022-06-04 00:00:00  \\\n",
       "0   2022-06-02 00:00:00  2022-06-03 00:00:00  2022-06-04 00:00:00   \n",
       "1                     P                    P                   WO   \n",
       "2                     P                    P                   WO   \n",
       "3                     P                    P                   WO   \n",
       "4                     P                    P                   WO   \n",
       "..                  ...                  ...                  ...   \n",
       "79                    P                    P                   WO   \n",
       "80                    P                    P                   WO   \n",
       "81                    P                    P                   WO   \n",
       "82                    P                    P                   WO   \n",
       "83                  NaN                  NaN                   WO   \n",
       "\n",
       "    2022-06-05 00:00:00  2022-06-06 00:00:00  2022-06-07 00:00:00  \\\n",
       "0   2022-06-05 00:00:00  2022-06-06 00:00:00  2022-06-07 00:00:00   \n",
       "1                    WO                    P                    P   \n",
       "2                    WO                    P                    P   \n",
       "3                    WO                    P                    P   \n",
       "4                    WO                    P                    P   \n",
       "..                  ...                  ...                  ...   \n",
       "79                   WO                    P                    P   \n",
       "80                   WO                    P                    P   \n",
       "81                   WO                    P                    P   \n",
       "82                   WO                    P                    P   \n",
       "83                   WO                  NaN                  NaN   \n",
       "\n",
       "    2022-06-08 00:00:00  ... Work from home  Paid Leave  Sick Leave   \\\n",
       "0   2022-06-08 00:00:00  ...             WFH          PL          SL   \n",
       "1                     P  ...               0           0           0   \n",
       "2                     P  ...               0           0           0   \n",
       "3                     P  ...               0           0           0   \n",
       "4                     P  ...              12           0           1   \n",
       "..                  ...  ...             ...         ...         ...   \n",
       "79                    P  ...               0           0           0   \n",
       "80                    P  ...               0           0           0   \n",
       "81                    P  ...               0           0           0   \n",
       "82                    P  ...               0           0           0   \n",
       "83                  NaN  ...              13           0           0   \n",
       "\n",
       "   Birthday Leave  Floting festival leave  Bereavement Leave  \\\n",
       "0              BL                      FFL              BRL    \n",
       "1                0                       0                 0   \n",
       "2                0                       0                 0   \n",
       "3                0                       0                 0   \n",
       "4                0                       0                 0   \n",
       "..             ...                     ...               ...   \n",
       "79               0                       0                 0   \n",
       "80               0                       0                 0   \n",
       "81               0                       0                 0   \n",
       "82               0                       0                 0   \n",
       "83               0                       0                 0   \n",
       "\n",
       "   Leave without pay Weekly Off Holidays Off Menstrual Leave  \n",
       "0                LWP         WO           HO              ML  \n",
       "1                  0          8            0               0  \n",
       "2                  0          8            0               0  \n",
       "3                  0          8            0               0  \n",
       "4                  0          8            0               0  \n",
       "..               ...        ...          ...             ...  \n",
       "79                 0          8            0               0  \n",
       "80                 0          8            0               0  \n",
       "81                 0          8            0               0  \n",
       "82                 0          8            0               0  \n",
       "83                 1          8            0               0  \n",
       "\n",
       "[84 rows x 45 columns]>"
      ]
     },
     "execution_count": 4,
     "metadata": {},
     "output_type": "execute_result"
    }
   ],
   "source": [
    "df.head"
   ]
  },
  {
   "cell_type": "code",
   "execution_count": null,
   "metadata": {},
   "outputs": [],
   "source": []
  }
 ],
 "metadata": {
  "kernelspec": {
   "display_name": "myenv",
   "language": "python",
   "name": "python3"
  },
  "language_info": {
   "codemirror_mode": {
    "name": "ipython",
    "version": 3
   },
   "file_extension": ".py",
   "mimetype": "text/x-python",
   "name": "python",
   "nbconvert_exporter": "python",
   "pygments_lexer": "ipython3",
   "version": "3.10.16"
  }
 },
 "nbformat": 4,
 "nbformat_minor": 2
}
