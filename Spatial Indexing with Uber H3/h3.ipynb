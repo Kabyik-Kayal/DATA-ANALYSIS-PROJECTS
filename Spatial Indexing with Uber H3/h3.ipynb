{
 "cells": [
  {
   "cell_type": "code",
   "execution_count": null,
   "metadata": {},
   "outputs": [],
   "source": [
    "# Install via pip\n",
    "%pip install h3\n",
    "%pip install folium"
   ]
  },
  {
   "cell_type": "code",
   "execution_count": null,
   "metadata": {},
   "outputs": [],
   "source": [
    "# Verify installation\n",
    "import h3\n",
    "print(h3.__version__)  # Output: 4.1.0 (or latest version)"
   ]
  },
  {
   "cell_type": "code",
   "execution_count": null,
   "metadata": {},
   "outputs": [],
   "source": [
    "import folium\n",
    "import h3\n",
    "\n",
    "base_cell = '8001fffffffffff'  # Resolution 0 pentagon\n",
    "children = h3.cell_to_children(base_cell, res=1)\n",
    "\n",
    "# Create a map centered at the center of the base hexagon\n",
    "base_center = h3.cell_to_latlng(base_cell)\n",
    "GeoSpatialMap = folium.Map(location=[base_center[0], base_center[1]], zoom_start=9)\n",
    "\n",
    "# Function to get hexagon boundaries\n",
    "def get_hexagon_bounds(h3_address):\n",
    "    boundaries = h3.cell_to_boundary(h3_address)\n",
    "    # Folium expects coordinates in [lat, lon] format\n",
    "    return [[lat, lng] for lat, lng in boundaries]\n",
    "\n",
    "# Add base hexagon\n",
    "folium.Polygon(\n",
    "    locations=get_hexagon_bounds(base_cell),\n",
    "    color='red',\n",
    "    fill=True,\n",
    "    weight=2,\n",
    "    popup=f'Base: {base_cell}'\n",
    ").add_to(GeoSpatialMap)\n",
    "\n",
    "# Add children hexagons\n",
    "for child in children:\n",
    "    folium.Polygon(\n",
    "        locations=get_hexagon_bounds(child),\n",
    "        color='blue',\n",
    "        fill=True,\n",
    "        weight=1,\n",
    "        popup=f'Child: {child}'\n",
    "    ).add_to(GeoSpatialMap)\n",
    "\n",
    "GeoSpatialMap"
   ]
  },
  {
   "cell_type": "code",
   "execution_count": null,
   "metadata": {},
   "outputs": [],
   "source": [
    "delhi_cell = h3.latlng_to_cell(28.6139, 77.2090, 9)  # New Delhi coordinates\n",
    "\n",
    "# Traverse hierarchy upwards\n",
    "parent = h3.cell_to_parent(delhi_cell, res=8)\n",
    "print(f\"Parent at res 8: {parent}\")\n",
    "\n",
    "# Traverse hierarchy downwards\n",
    "children = h3.cell_to_children(parent, res=9)\n",
    "print(f\"Contains {len(children)} children\")\n",
    "\n",
    "# Create a new map centered on New Delhi\n",
    "delhi_map = folium.Map(location=[28.6139, 77.2090], zoom_start=15)\n",
    "\n",
    "# Add the parent hexagon (resolution 8)\n",
    "folium.Polygon(\n",
    "    locations=get_hexagon_bounds(parent),\n",
    "    color='red',\n",
    "    fill=True,\n",
    "    weight=2,\n",
    "    popup=f'Parent: {parent}'\n",
    ").add_to(delhi_map)\n",
    "\n",
    "# Add all children hexagons (resolution 9)\n",
    "for child_cell in children:\n",
    "    color = 'yellow' if child_cell == delhi_cell else 'blue'\n",
    "    folium.Polygon(\n",
    "        locations=get_hexagon_bounds(child_cell),\n",
    "        color=color,\n",
    "        fill=True,\n",
    "        weight=1,\n",
    "        popup=f'Child: {child_cell}'\n",
    "    ).add_to(delhi_map)\n",
    "\n",
    "delhi_map"
   ]
  },
  {
   "cell_type": "code",
   "execution_count": null,
   "metadata": {},
   "outputs": [],
   "source": []
  }
 ],
 "metadata": {
  "kernelspec": {
   "display_name": "venv",
   "language": "python",
   "name": "python3"
  },
  "language_info": {
   "codemirror_mode": {
    "name": "ipython",
    "version": 3
   },
   "file_extension": ".py",
   "mimetype": "text/x-python",
   "name": "python",
   "nbconvert_exporter": "python",
   "pygments_lexer": "ipython3",
   "version": "3.12.9"
  }
 },
 "nbformat": 4,
 "nbformat_minor": 2
}
