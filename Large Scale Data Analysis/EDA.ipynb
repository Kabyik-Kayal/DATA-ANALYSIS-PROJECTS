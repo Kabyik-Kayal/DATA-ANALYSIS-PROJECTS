{
 "cells": [
  {
   "cell_type": "code",
   "execution_count": null,
   "metadata": {},
   "outputs": [],
   "source": [
    "import fireducks.pandas as pd\n",
    "import matplotlib.pyplot as plt"
   ]
  },
  {
   "cell_type": "code",
   "execution_count": null,
   "metadata": {},
   "outputs": [],
   "source": [
    "df1 = pd.read_excel('Online_Retail.xlsx')"
   ]
  },
  {
   "cell_type": "code",
   "execution_count": null,
   "metadata": {},
   "outputs": [],
   "source": [
    "df1.head()"
   ]
  },
  {
   "cell_type": "code",
   "execution_count": null,
   "metadata": {},
   "outputs": [],
   "source": [
    "df1.info()"
   ]
  },
  {
   "cell_type": "code",
   "execution_count": null,
   "metadata": {},
   "outputs": [],
   "source": [
    "# Convert object columns to string type\n",
    "object_columns = df1.select_dtypes(include=['object']).columns\n",
    "for col in object_columns:\n",
    "    df1[col] = df1[col].astype(str)\n",
    "\n",
    "# Verify the conversion\n",
    "print(\"Updated data types:\")\n",
    "print(df1.dtypes)"
   ]
  },
  {
   "cell_type": "code",
   "execution_count": null,
   "metadata": {},
   "outputs": [],
   "source": [
    "df1.describe()"
   ]
  },
  {
   "cell_type": "code",
   "execution_count": null,
   "metadata": {},
   "outputs": [],
   "source": [
    "df1.isnull().sum()"
   ]
  },
  {
   "cell_type": "code",
   "execution_count": null,
   "metadata": {},
   "outputs": [],
   "source": [
    "df1[df1.Description.isnull()]"
   ]
  },
  {
   "cell_type": "code",
   "execution_count": null,
   "metadata": {},
   "outputs": [],
   "source": [
    "df1[df1.StockCode==\"22139\"]"
   ]
  },
  {
   "cell_type": "code",
   "execution_count": null,
   "metadata": {},
   "outputs": [],
   "source": [
    "df1[df1.StockCode==\"22139\"].Description.mode()"
   ]
  },
  {
   "cell_type": "code",
   "execution_count": null,
   "metadata": {},
   "outputs": [],
   "source": [
    "most_freq = df1[[\"StockCode\", \"Description\"]].value_counts().reset_index()"
   ]
  },
  {
   "cell_type": "code",
   "execution_count": null,
   "metadata": {},
   "outputs": [],
   "source": [
    "most_freq"
   ]
  },
  {
   "cell_type": "code",
   "execution_count": null,
   "metadata": {},
   "outputs": [],
   "source": [
    "most_freq[most_freq.StockCode==\"85123A\"].head(1)"
   ]
  },
  {
   "cell_type": "code",
   "execution_count": null,
   "metadata": {},
   "outputs": [],
   "source": [
    "most_freq = most_freq.groupby(\"StockCode\").head(1)\n",
    "most_freq"
   ]
  },
  {
   "cell_type": "code",
   "execution_count": null,
   "metadata": {},
   "outputs": [],
   "source": [
    "most_freq.columns = [\"StockCode\", \"freq_Description\", \"count\"]\n",
    "df2 = df1.merge(most_freq, on=\"StockCode\", how=\"left\")\n",
    "df2.head()"
   ]
  },
  {
   "cell_type": "code",
   "execution_count": null,
   "metadata": {},
   "outputs": [],
   "source": [
    "df2[\"Description\"] = df2[\"freq_Description\"]\n",
    "df2.head()"
   ]
  },
  {
   "cell_type": "code",
   "execution_count": null,
   "metadata": {},
   "outputs": [],
   "source": [
    "df2.isnull().sum()"
   ]
  },
  {
   "cell_type": "code",
   "execution_count": null,
   "metadata": {},
   "outputs": [],
   "source": [
    "df2.drop(columns=[\"freq_Description\",\"count\"], inplace = True)\n",
    "df2.head()"
   ]
  },
  {
   "cell_type": "code",
   "execution_count": null,
   "metadata": {},
   "outputs": [],
   "source": [
    "df2.describe()"
   ]
  },
  {
   "cell_type": "code",
   "execution_count": null,
   "metadata": {},
   "outputs": [],
   "source": [
    "df2[df2.Quantity<0]"
   ]
  },
  {
   "cell_type": "code",
   "execution_count": null,
   "metadata": {},
   "outputs": [],
   "source": [
    "df2[df2.UnitPrice<0]"
   ]
  },
  {
   "cell_type": "code",
   "execution_count": null,
   "metadata": {},
   "outputs": [],
   "source": [
    "df3 = df2[(df2.UnitPrice>0) & (df2.Quantity>0)]\n",
    "df3.describe()"
   ]
  },
  {
   "cell_type": "code",
   "execution_count": null,
   "metadata": {},
   "outputs": [],
   "source": [
    "df3.Quantity.quantile(0.9999)"
   ]
  },
  {
   "cell_type": "code",
   "execution_count": null,
   "metadata": {},
   "outputs": [],
   "source": [
    "df3[df3.Quantity>1500]"
   ]
  },
  {
   "cell_type": "markdown",
   "metadata": {},
   "source": [
    "Feature Engineering"
   ]
  },
  {
   "cell_type": "code",
   "execution_count": null,
   "metadata": {},
   "outputs": [],
   "source": [
    "df4 = df3.copy()"
   ]
  },
  {
   "cell_type": "code",
   "execution_count": null,
   "metadata": {},
   "outputs": [],
   "source": [
    "df4[\"TotalSales\"] = df4.Quantity * df4.UnitPrice\n",
    "df4.head(3)"
   ]
  },
  {
   "cell_type": "code",
   "execution_count": null,
   "metadata": {},
   "outputs": [],
   "source": [
    "df4['Month'] = df4[\"InvoiceDate\"].dt.month\n",
    "df4.sample(3)"
   ]
  },
  {
   "cell_type": "markdown",
   "metadata": {},
   "source": [
    "## Visualizations"
   ]
  },
  {
   "cell_type": "code",
   "execution_count": null,
   "metadata": {},
   "outputs": [],
   "source": []
  },
  {
   "cell_type": "code",
   "execution_count": null,
   "metadata": {},
   "outputs": [],
   "source": [
    "monthly_sales = df4.groupby(\"Month\")[\"TotalSales\"].sum()\n",
    "monthly_sales.plot(kind='line', title=\"Monthly Sales\", marker=\"o\")\n",
    "plt.xlabel(\"Month\")\n",
    "plt.ylabel(\"Total Sales\")\n",
    "plt.grid()\n",
    "plt.show()"
   ]
  },
  {
   "cell_type": "markdown",
   "metadata": {},
   "source": [
    "## Insights\n",
    "Total sales started rising up in August having a peek in November. This is likely due to holiday season at the end of the year\n"
   ]
  },
  {
   "cell_type": "markdown",
   "metadata": {},
   "source": [
    "#### Top 5 Countries"
   ]
  },
  {
   "cell_type": "code",
   "execution_count": null,
   "metadata": {},
   "outputs": [],
   "source": [
    "top_5_countries = df4.groupby(\"Country\")[\"TotalSales\"].sum().sort_values(ascending=False).head(5)\n",
    "top_5_countries"
   ]
  },
  {
   "cell_type": "code",
   "execution_count": null,
   "metadata": {},
   "outputs": [],
   "source": [
    "top_5_countries.plot(kind='barh', title='Top 5 Countries by Total Sales')\n",
    "plt.xlabel('Total Sales')\n",
    "plt.ylabel('Country')\n",
    "plt.grid(axis='x')\n",
    "plt.show()"
   ]
  },
  {
   "cell_type": "code",
   "execution_count": null,
   "metadata": {},
   "outputs": [],
   "source": [
    "country_wise_sales = df4.groupby('Country')['TotalSales'].sum()\n",
    "total_sales = country_wise_sales.sum()\n",
    "\n",
    "top_5_countries = country_wise_sales.sort_values(ascending=False).head()\n",
    "percentages = (top_5_countries/total_sales)*100\n",
    "\n",
    "plt.figure(figsize=(10,6))\n",
    "bars = plt.barh(top_5_countries.index, percentages)\n",
    "plt.xlabel(\"Percentage Contribution to Total Sales\")\n",
    "plt.ylabel(\"Country\")\n",
    "plt.title(\"Top 5 Countries by Percentage Contribution to Total Sales\")\n",
    "plt.grid(axis='x')\n",
    "for bar,percentage in zip(bars, percentages):\n",
    "    plt.text(bar.get_width() + 0.5, bar.get_y() + bar.get_height()/2, f'{percentage:.1f}%', va='center')\n",
    "plt.show()\n",
    "\n"
   ]
  },
  {
   "cell_type": "code",
   "execution_count": null,
   "metadata": {},
   "outputs": [],
   "source": [
    "product_wise_sales = df4.groupby('StockCode')['TotalSales'].sum()\n",
    "\n",
    "top_5_products = product_wise_sales.sort_values(ascending=False).head(5)\n",
    "top_5_products.plot(kind='barh', color='skyblue')\n",
    "plt.title('Product-Wise Sales')\n",
    "plt.xlabel('Product Stock Code')\n",
    "plt.gca().invert_yaxis()\n",
    "plt.show()"
   ]
  },
  {
   "cell_type": "code",
   "execution_count": null,
   "metadata": {},
   "outputs": [],
   "source": [
    "total_sales = product_wise_sales.sum()\n",
    "percentages = (top_5_products / total_sales) * 100\n",
    "plt.figure(figsize=(10,6))\n",
    "bars = plt.barh(top_5_products.index, percentages)\n",
    "plt.xlabel('Percentage Contribution to Total Sales')\n",
    "plt.ylabel('Product Stock Code')\n",
    "plt.title('Top 5 Products by Percentage Contribution to Total Sales')\n",
    "plt.grid(axis='x')\n",
    "for bar, percentage in zip(bars, percentages):\n",
    "    plt.text(bar.get_width() + 0.02, bar.get_y() + bar.get_height()/2, f'{percentage:.1f}%', va='center')\n",
    "plt.show()"
   ]
  },
  {
   "cell_type": "markdown",
   "metadata": {},
   "source": [
    "RFM Analysis"
   ]
  },
  {
   "cell_type": "code",
   "execution_count": null,
   "metadata": {},
   "outputs": [],
   "source": [
    "df4['InvoiceDate'].max()"
   ]
  },
  {
   "cell_type": "code",
   "execution_count": null,
   "metadata": {},
   "outputs": [],
   "source": [
    "current_dt = df4['InvoiceDate'].max() + pd.Timedelta(days=1)\n",
    "current_dt"
   ]
  },
  {
   "cell_type": "code",
   "execution_count": null,
   "metadata": {},
   "outputs": [],
   "source": [
    "rfm = df4.groupby('CustomerID').agg({\n",
    "    'InvoiceDate': lambda x: (current_dt - x.max()).days,\n",
    "    'InvoiceNo': 'count',\n",
    "    'TotalSales': 'sum'\n",
    "})\n",
    "\n",
    "rfm.columns = ['Recency', 'Frequency', 'Monetary']\n",
    "rfm.head()"
   ]
  },
  {
   "cell_type": "code",
   "execution_count": null,
   "metadata": {},
   "outputs": [],
   "source": [
    "rfm['R_segment'] = pd.qcut(rfm['Recency'], 4, labels=[4,3,2,1])\n",
    "rfm['F_segment'] = pd.qcut(rfm['Frequency'], 4, labels=[1,2,3,4])\n",
    "rfm['M_segment'] = pd.qcut(rfm['Monetary'], 4, labels=[1,2,3,4])\n",
    "rfm['RFM_Score'] = rfm[['R_segment', 'F_segment', 'M_segment']].sum(axis=1)\n",
    "rfm"
   ]
  },
  {
   "cell_type": "code",
   "execution_count": null,
   "metadata": {},
   "outputs": [],
   "source": [
    "rfm.sort_values('RFM_Score', ascending=False)"
   ]
  }
 ],
 "metadata": {
  "kernelspec": {
   "display_name": "venv",
   "language": "python",
   "name": "python3"
  },
  "language_info": {
   "codemirror_mode": {
    "name": "ipython",
    "version": 3
   },
   "file_extension": ".py",
   "mimetype": "text/x-python",
   "name": "python",
   "nbconvert_exporter": "python",
   "pygments_lexer": "ipython3",
   "version": "3.12.9"
  }
 },
 "nbformat": 4,
 "nbformat_minor": 2
}
